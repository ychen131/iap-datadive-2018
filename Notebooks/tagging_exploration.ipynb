{
 "cells": [
  {
   "cell_type": "markdown",
   "metadata": {},
   "source": [
    "# import the necessary package"
   ]
  },
  {
   "cell_type": "code",
   "execution_count": 1,
   "metadata": {},
   "outputs": [],
   "source": [
    "import pandas as pd\n",
    "import pickle\n",
    "import random\n",
    "pd.set_option('display.max_columns',60)\n",
    "%matplotlib inline\n",
    "import datetime"
   ]
  },
  {
   "cell_type": "code",
   "execution_count": 2,
   "metadata": {},
   "outputs": [],
   "source": [
    "newsData_path = '../Data/Feedly_Processed_DF_cleaned.pkl'\n",
    "countrylabel_path = '../Data/Labeled_Data/countries.csv'\n",
    "banklabel_path = '../Data/Labeled_Data/banks.csv'"
   ]
  },
  {
   "cell_type": "markdown",
   "metadata": {},
   "source": [
    "# load the dataset"
   ]
  },
  {
   "cell_type": "markdown",
   "metadata": {},
   "source": [
    "**News Articles ** "
   ]
  },
  {
   "cell_type": "code",
   "execution_count": 3,
   "metadata": {},
   "outputs": [],
   "source": [
    "newsData = pd.read_pickle(newsData_path)"
   ]
  },
  {
   "cell_type": "markdown",
   "metadata": {},
   "source": [
    "# Country Tags "
   ]
  },
  {
   "cell_type": "markdown",
   "metadata": {},
   "source": [
    "**Simple demo **"
   ]
  },
  {
   "cell_type": "markdown",
   "metadata": {},
   "source": [
    "country code names : http://www.geonames.org/countries/"
   ]
  },
  {
   "cell_type": "code",
   "execution_count": 4,
   "metadata": {},
   "outputs": [],
   "source": [
    "from geotext import GeoText"
   ]
  },
  {
   "cell_type": "code",
   "execution_count": 5,
   "metadata": {},
   "outputs": [],
   "source": [
    "countryLabels = pd.read_csv(countrylabel_path)"
   ]
  },
  {
   "cell_type": "code",
   "execution_count": 6,
   "metadata": {},
   "outputs": [
    {
     "data": {
      "text/html": [
       "<div>\n",
       "<style scoped>\n",
       "    .dataframe tbody tr th:only-of-type {\n",
       "        vertical-align: middle;\n",
       "    }\n",
       "\n",
       "    .dataframe tbody tr th {\n",
       "        vertical-align: top;\n",
       "    }\n",
       "\n",
       "    .dataframe thead th {\n",
       "        text-align: right;\n",
       "    }\n",
       "</style>\n",
       "<table border=\"1\" class=\"dataframe\">\n",
       "  <thead>\n",
       "    <tr style=\"text-align: right;\">\n",
       "      <th></th>\n",
       "      <th>article_id</th>\n",
       "      <th>title</th>\n",
       "      <th>url</th>\n",
       "      <th>feed_label</th>\n",
       "      <th>content</th>\n",
       "      <th>published</th>\n",
       "      <th>summary</th>\n",
       "      <th>article_text</th>\n",
       "      <th>article_keywords</th>\n",
       "      <th>article_text_len</th>\n",
       "      <th>top_lang</th>\n",
       "    </tr>\n",
       "  </thead>\n",
       "  <tbody>\n",
       "    <tr>\n",
       "      <th>10900</th>\n",
       "      <td>eebb9702</td>\n",
       "      <td>India, World Bank sign financing agreement for...</td>\n",
       "      <td>http://www.abplive.in/business/india-world-ban...</td>\n",
       "      <td>NEWS WB- All Streams</td>\n",
       "      <td>NaN</td>\n",
       "      <td>2017-12-21 09:22:12</td>\n",
       "      <td>&lt;table border=\"0\" cellspacing=\"3\" cellpadding=...</td>\n",
       "      <td>New Delhi [India], Dec 20 (ANI): A financing a...</td>\n",
       "      <td>[institutes, india, skill, financing, training...</td>\n",
       "      <td>1031</td>\n",
       "      <td>en</td>\n",
       "    </tr>\n",
       "    <tr>\n",
       "      <th>4268</th>\n",
       "      <td>6832ce57</td>\n",
       "      <td>Rs 40000-crore development projects in limbo i...</td>\n",
       "      <td>http://www.moneycontrol.com/news/business/econ...</td>\n",
       "      <td>NEWS AIIB - All Streams</td>\n",
       "      <td>NaN</td>\n",
       "      <td>2017-12-10 09:40:00</td>\n",
       "      <td>&lt;table border=\"0\" cellspacing=\"3\" cellpadding=...</td>\n",
       "      <td>Development projects worth more than Rs 40,000...</td>\n",
       "      <td>[development, crore, andhra, eaps, state, proj...</td>\n",
       "      <td>4390</td>\n",
       "      <td>en</td>\n",
       "    </tr>\n",
       "    <tr>\n",
       "      <th>1663</th>\n",
       "      <td>30f8f65e</td>\n",
       "      <td>https://www.the-american-interest.com/2018/01/...</td>\n",
       "      <td>https://www.the-american-interest.com/2018/01/...</td>\n",
       "      <td>NEWS AFDB- All Streams</td>\n",
       "      <td>NaN</td>\n",
       "      <td>2018-01-03 12:21:54</td>\n",
       "      <td>&lt;table border=\"0\" cellspacing=\"3\" cellpadding=...</td>\n",
       "      <td>Ten Lessons\\n\\nDevelopment with Chinese Charac...</td>\n",
       "      <td>[transitions, university, chinese, united, dev...</td>\n",
       "      <td>575</td>\n",
       "      <td>en</td>\n",
       "    </tr>\n",
       "    <tr>\n",
       "      <th>3789</th>\n",
       "      <td>5ec16472</td>\n",
       "      <td>$300 Million to Expand and Upgrade Infrastruct...</td>\n",
       "      <td>https://jis.gov.jm/300-million-to-expand-and-u...</td>\n",
       "      <td>NEWS IDB - All Streams</td>\n",
       "      <td>NaN</td>\n",
       "      <td>2018-04-27 16:28:43</td>\n",
       "      <td>&lt;table border=\"0\" cellspacing=\"3\" cellpadding=...</td>\n",
       "      <td>Minister of Industry, Commerce, Agriculture an...</td>\n",
       "      <td>[research, development, agriculture, fisheries...</td>\n",
       "      <td>2621</td>\n",
       "      <td>en</td>\n",
       "    </tr>\n",
       "    <tr>\n",
       "      <th>6657</th>\n",
       "      <td>989c9942</td>\n",
       "      <td>ADB Provides $346 Million to Upgrade State Hig...</td>\n",
       "      <td>http://www.business-standard.com/article/news-...</td>\n",
       "      <td>NEWS ADB - All Streams</td>\n",
       "      <td>NaN</td>\n",
       "      <td>2017-12-10 01:00:00</td>\n",
       "      <td>&lt;table border=\"0\" cellspacing=\"3\" cellpadding=...</td>\n",
       "      <td>The Asian Development Bank's (ADB) Board of Di...</td>\n",
       "      <td>[highways, improvement, india, state, upgrade,...</td>\n",
       "      <td>2532</td>\n",
       "      <td>en</td>\n",
       "    </tr>\n",
       "  </tbody>\n",
       "</table>\n",
       "</div>"
      ],
      "text/plain": [
       "      article_id                                              title  \\\n",
       "10900   eebb9702  India, World Bank sign financing agreement for...   \n",
       "4268    6832ce57  Rs 40000-crore development projects in limbo i...   \n",
       "1663    30f8f65e  https://www.the-american-interest.com/2018/01/...   \n",
       "3789    5ec16472  $300 Million to Expand and Upgrade Infrastruct...   \n",
       "6657    989c9942  ADB Provides $346 Million to Upgrade State Hig...   \n",
       "\n",
       "                                                     url  \\\n",
       "10900  http://www.abplive.in/business/india-world-ban...   \n",
       "4268   http://www.moneycontrol.com/news/business/econ...   \n",
       "1663   https://www.the-american-interest.com/2018/01/...   \n",
       "3789   https://jis.gov.jm/300-million-to-expand-and-u...   \n",
       "6657   http://www.business-standard.com/article/news-...   \n",
       "\n",
       "                    feed_label content           published  \\\n",
       "10900     NEWS WB- All Streams     NaN 2017-12-21 09:22:12   \n",
       "4268   NEWS AIIB - All Streams     NaN 2017-12-10 09:40:00   \n",
       "1663    NEWS AFDB- All Streams     NaN 2018-01-03 12:21:54   \n",
       "3789    NEWS IDB - All Streams     NaN 2018-04-27 16:28:43   \n",
       "6657    NEWS ADB - All Streams     NaN 2017-12-10 01:00:00   \n",
       "\n",
       "                                                 summary  \\\n",
       "10900  <table border=\"0\" cellspacing=\"3\" cellpadding=...   \n",
       "4268   <table border=\"0\" cellspacing=\"3\" cellpadding=...   \n",
       "1663   <table border=\"0\" cellspacing=\"3\" cellpadding=...   \n",
       "3789   <table border=\"0\" cellspacing=\"3\" cellpadding=...   \n",
       "6657   <table border=\"0\" cellspacing=\"3\" cellpadding=...   \n",
       "\n",
       "                                            article_text  \\\n",
       "10900  New Delhi [India], Dec 20 (ANI): A financing a...   \n",
       "4268   Development projects worth more than Rs 40,000...   \n",
       "1663   Ten Lessons\\n\\nDevelopment with Chinese Charac...   \n",
       "3789   Minister of Industry, Commerce, Agriculture an...   \n",
       "6657   The Asian Development Bank's (ADB) Board of Di...   \n",
       "\n",
       "                                        article_keywords  article_text_len  \\\n",
       "10900  [institutes, india, skill, financing, training...              1031   \n",
       "4268   [development, crore, andhra, eaps, state, proj...              4390   \n",
       "1663   [transitions, university, chinese, united, dev...               575   \n",
       "3789   [research, development, agriculture, fisheries...              2621   \n",
       "6657   [highways, improvement, india, state, upgrade,...              2532   \n",
       "\n",
       "      top_lang  \n",
       "10900       en  \n",
       "4268        en  \n",
       "1663        en  \n",
       "3789        en  \n",
       "6657        en  "
      ]
     },
     "execution_count": 6,
     "metadata": {},
     "output_type": "execute_result"
    }
   ],
   "source": [
    "newsData.head()"
   ]
  },
  {
   "cell_type": "code",
   "execution_count": 7,
   "metadata": {},
   "outputs": [],
   "source": [
    "newsData.reset_index(inplace = True)"
   ]
  },
  {
   "cell_type": "code",
   "execution_count": 8,
   "metadata": {},
   "outputs": [],
   "source": [
    "from collections import Counter"
   ]
  },
  {
   "cell_type": "code",
   "execution_count": 9,
   "metadata": {},
   "outputs": [],
   "source": [
    "#iterate through title to look for country, then iterate though text\n",
    "\n",
    "def get_top_countries(x):\n",
    "    \"\"\"\n",
    "    given the text and title of an article\n",
    "    parse out the names of the two most frequently mentioned\n",
    "    countries in the order of frequency\n",
    "    \"\"\"\n",
    "    geo = GeoText(x)\n",
    "    counts = Counter(geo.countries)\n",
    "    country_list =  [country.lower() for (country, counts) in counts.most_common(2)]\n",
    "    return \", \".join([x for x in country_list]) \n"
   ]
  },
  {
   "cell_type": "code",
   "execution_count": 10,
   "metadata": {},
   "outputs": [],
   "source": [
    "#create combined column of article title and text\n",
    "newsData['title_and_text'] = newsData['title'] + \"\\n\" + newsData['article_text']"
   ]
  },
  {
   "cell_type": "code",
   "execution_count": 11,
   "metadata": {},
   "outputs": [],
   "source": [
    "newsData['top_two_countries'] = newsData['title_and_text'].apply(lambda x : get_top_countries(x))\n"
   ]
  },
  {
   "cell_type": "code",
   "execution_count": 12,
   "metadata": {},
   "outputs": [],
   "source": [
    "newsData['all_detected_countries'] = newsData['title_and_text'].apply(lambda x : get_top_countries(x))"
   ]
  },
  {
   "cell_type": "code",
   "execution_count": 13,
   "metadata": {},
   "outputs": [],
   "source": [
    "dfshort = newsData[['article_id', 'top_two_countries', 'all_detected_countries']]\n",
    "dfshort.to_csv('article_country_tags.csv')"
   ]
  },
  {
   "cell_type": "code",
   "execution_count": 14,
   "metadata": {},
   "outputs": [
    {
     "data": {
      "text/html": [
       "<div>\n",
       "<style scoped>\n",
       "    .dataframe tbody tr th:only-of-type {\n",
       "        vertical-align: middle;\n",
       "    }\n",
       "\n",
       "    .dataframe tbody tr th {\n",
       "        vertical-align: top;\n",
       "    }\n",
       "\n",
       "    .dataframe thead th {\n",
       "        text-align: right;\n",
       "    }\n",
       "</style>\n",
       "<table border=\"1\" class=\"dataframe\">\n",
       "  <thead>\n",
       "    <tr style=\"text-align: right;\">\n",
       "      <th></th>\n",
       "      <th>article_id</th>\n",
       "      <th>top_two_countries</th>\n",
       "      <th>all_detected_countries</th>\n",
       "    </tr>\n",
       "  </thead>\n",
       "  <tbody>\n",
       "    <tr>\n",
       "      <th>0</th>\n",
       "      <td>eebb9702</td>\n",
       "      <td>india</td>\n",
       "      <td>india</td>\n",
       "    </tr>\n",
       "    <tr>\n",
       "      <th>1</th>\n",
       "      <td>6832ce57</td>\n",
       "      <td>india</td>\n",
       "      <td>india</td>\n",
       "    </tr>\n",
       "    <tr>\n",
       "      <th>2</th>\n",
       "      <td>30f8f65e</td>\n",
       "      <td>china</td>\n",
       "      <td>china</td>\n",
       "    </tr>\n",
       "    <tr>\n",
       "      <th>3</th>\n",
       "      <td>5ec16472</td>\n",
       "      <td></td>\n",
       "      <td></td>\n",
       "    </tr>\n",
       "    <tr>\n",
       "      <th>4</th>\n",
       "      <td>989c9942</td>\n",
       "      <td>india</td>\n",
       "      <td>india</td>\n",
       "    </tr>\n",
       "  </tbody>\n",
       "</table>\n",
       "</div>"
      ],
      "text/plain": [
       "  article_id top_two_countries all_detected_countries\n",
       "0   eebb9702             india                  india\n",
       "1   6832ce57             india                  india\n",
       "2   30f8f65e             china                  china\n",
       "3   5ec16472                                         \n",
       "4   989c9942             india                  india"
      ]
     },
     "execution_count": 14,
     "metadata": {},
     "output_type": "execute_result"
    }
   ],
   "source": [
    "dfshort.head()"
   ]
  },
  {
   "cell_type": "code",
   "execution_count": 15,
   "metadata": {},
   "outputs": [],
   "source": [
    "#compare with labeled data and look at our accuracy\n"
   ]
  },
  {
   "cell_type": "code",
   "execution_count": 16,
   "metadata": {},
   "outputs": [],
   "source": [
    "joined = countryLabels.merge(dfshort, how = 'inner', on = 'article_id')"
   ]
  },
  {
   "cell_type": "code",
   "execution_count": 17,
   "metadata": {},
   "outputs": [],
   "source": [
    "df_matches = joined[['article_id', 'Country1','top_two_countries', 'all_detected_countries']]"
   ]
  },
  {
   "cell_type": "code",
   "execution_count": 18,
   "metadata": {},
   "outputs": [
    {
     "data": {
      "text/html": [
       "<div>\n",
       "<style scoped>\n",
       "    .dataframe tbody tr th:only-of-type {\n",
       "        vertical-align: middle;\n",
       "    }\n",
       "\n",
       "    .dataframe tbody tr th {\n",
       "        vertical-align: top;\n",
       "    }\n",
       "\n",
       "    .dataframe thead th {\n",
       "        text-align: right;\n",
       "    }\n",
       "</style>\n",
       "<table border=\"1\" class=\"dataframe\">\n",
       "  <thead>\n",
       "    <tr style=\"text-align: right;\">\n",
       "      <th></th>\n",
       "      <th>article_id</th>\n",
       "      <th>Country1</th>\n",
       "      <th>top_two_countries</th>\n",
       "      <th>all_detected_countries</th>\n",
       "    </tr>\n",
       "  </thead>\n",
       "  <tbody>\n",
       "    <tr>\n",
       "      <th>0</th>\n",
       "      <td>10f9ed2</td>\n",
       "      <td>cambodia</td>\n",
       "      <td>cambodia, japan</td>\n",
       "      <td>cambodia, japan</td>\n",
       "    </tr>\n",
       "    <tr>\n",
       "      <th>1</th>\n",
       "      <td>c0eece9b</td>\n",
       "      <td>afghanistan</td>\n",
       "      <td>afghanistan, afghanistan</td>\n",
       "      <td>afghanistan, afghanistan</td>\n",
       "    </tr>\n",
       "    <tr>\n",
       "      <th>2</th>\n",
       "      <td>d1d79dd8</td>\n",
       "      <td>bangladesh</td>\n",
       "      <td>philippines, bangladesh</td>\n",
       "      <td>philippines, bangladesh</td>\n",
       "    </tr>\n",
       "    <tr>\n",
       "      <th>3</th>\n",
       "      <td>f0d65e5</td>\n",
       "      <td>thailand</td>\n",
       "      <td>thailand</td>\n",
       "      <td>thailand</td>\n",
       "    </tr>\n",
       "    <tr>\n",
       "      <th>4</th>\n",
       "      <td>4a557358</td>\n",
       "      <td>thailand</td>\n",
       "      <td>thailand, cambodia</td>\n",
       "      <td>thailand, cambodia</td>\n",
       "    </tr>\n",
       "  </tbody>\n",
       "</table>\n",
       "</div>"
      ],
      "text/plain": [
       "  article_id     Country1         top_two_countries    all_detected_countries\n",
       "0    10f9ed2     cambodia           cambodia, japan           cambodia, japan\n",
       "1   c0eece9b  afghanistan  afghanistan, afghanistan  afghanistan, afghanistan\n",
       "2   d1d79dd8   bangladesh   philippines, bangladesh   philippines, bangladesh\n",
       "3    f0d65e5     thailand                  thailand                  thailand\n",
       "4   4a557358     thailand        thailand, cambodia        thailand, cambodia"
      ]
     },
     "execution_count": 18,
     "metadata": {},
     "output_type": "execute_result"
    }
   ],
   "source": [
    "df_matches.head()"
   ]
  },
  {
   "cell_type": "code",
   "execution_count": 19,
   "metadata": {},
   "outputs": [],
   "source": [
    "def get_list(x):\n",
    "    return x.split(',')"
   ]
  },
  {
   "cell_type": "code",
   "execution_count": 20,
   "metadata": {},
   "outputs": [
    {
     "name": "stderr",
     "output_type": "stream",
     "text": [
      "/anaconda3/lib/python3.6/site-packages/ipykernel_launcher.py:1: SettingWithCopyWarning: \n",
      "A value is trying to be set on a copy of a slice from a DataFrame.\n",
      "Try using .loc[row_indexer,col_indexer] = value instead\n",
      "\n",
      "See the caveats in the documentation: http://pandas.pydata.org/pandas-docs/stable/indexing.html#indexing-view-versus-copy\n",
      "  \"\"\"Entry point for launching an IPython kernel.\n"
     ]
    }
   ],
   "source": [
    "df_matches['country_list'] = df_matches['Country1'].apply(lambda x: get_list(x))"
   ]
  },
  {
   "cell_type": "code",
   "execution_count": 21,
   "metadata": {},
   "outputs": [
    {
     "name": "stderr",
     "output_type": "stream",
     "text": [
      "/anaconda3/lib/python3.6/site-packages/ipykernel_launcher.py:1: SettingWithCopyWarning: \n",
      "A value is trying to be set on a copy of a slice from a DataFrame.\n",
      "Try using .loc[row_indexer,col_indexer] = value instead\n",
      "\n",
      "See the caveats in the documentation: http://pandas.pydata.org/pandas-docs/stable/indexing.html#indexing-view-versus-copy\n",
      "  \"\"\"Entry point for launching an IPython kernel.\n"
     ]
    }
   ],
   "source": [
    "df_matches['top_two_list'] = df_matches['top_two_countries'].apply(lambda x: get_list(x))"
   ]
  },
  {
   "cell_type": "code",
   "execution_count": 22,
   "metadata": {},
   "outputs": [],
   "source": [
    "predictions = list(df_matches['top_two_list'])"
   ]
  },
  {
   "cell_type": "code",
   "execution_count": 23,
   "metadata": {},
   "outputs": [],
   "source": [
    "actual= list(df_matches['country_list'])"
   ]
  },
  {
   "cell_type": "code",
   "execution_count": 24,
   "metadata": {},
   "outputs": [],
   "source": [
    "# not handling if there are ties of two contries having the same counts...\n",
    "# check against labelled data"
   ]
  },
  {
   "cell_type": "code",
   "execution_count": 25,
   "metadata": {},
   "outputs": [],
   "source": [
    "import numpy as np\n",
    "def apk(actual, predicted, k=10):\n",
    "    \"\"\"\n",
    "    Computes the average precision at k.\n",
    "    This function computes the average prescision at k between two lists of\n",
    "    items.\n",
    "    Parameters\n",
    "    ----------\n",
    "    actual : list\n",
    "             A list of elements that are to be predicted (order doesn't matter)\n",
    "    predicted : list\n",
    "                A list of predicted elements (order does matter)\n",
    "    k : int, optional\n",
    "        The maximum number of predicted elements\n",
    "    Returns\n",
    "    -------\n",
    "    score : double\n",
    "            The average precision at k over the input lists\n",
    "    \"\"\"\n",
    "    if len(predicted)>k:\n",
    "        predicted = predicted[:k]\n",
    "    score = 0.0\n",
    "    num_hits = 0.0\n",
    "    for i,p in enumerate(predicted):\n",
    "        if p in actual and p not in predicted[:i]:\n",
    "            num_hits += 1.0\n",
    "            score += num_hits / (i+1.0)\n",
    "    if not actual:\n",
    "        return 0.0\n",
    "    return score / min(len(actual), k)\n",
    "def mapk(actual, predicted, k=10):\n",
    "    \"\"\"\n",
    "    Computes the mean average precision at k.\n",
    "    This function computes the mean average prescision at k between two lists\n",
    "    of lists of items.\n",
    "    Parameters\n",
    "    ----------\n",
    "    actual : list\n",
    "             A list of lists of elements that are to be predicted \n",
    "             (order doesn't matter in the lists)\n",
    "    predicted : list\n",
    "                A list of lists of predicted elements\n",
    "                (order matters in the lists)\n",
    "    k : int, optional\n",
    "        The maximum number of predicted elements\n",
    "    Returns\n",
    "    -------\n",
    "    score : double\n",
    "            The mean average precision at k over the input lists\n",
    "    \"\"\"\n",
    "    return np.mean([apk(a,p,k) for a,p in zip(actual, predicted)])"
   ]
  },
  {
   "cell_type": "code",
   "execution_count": 26,
   "metadata": {},
   "outputs": [
    {
     "data": {
      "text/plain": [
       "0.7597619047619049"
      ]
     },
     "execution_count": 26,
     "metadata": {},
     "output_type": "execute_result"
    }
   ],
   "source": [
    "mapk(actual, predictions, k = 4)"
   ]
  },
  {
   "cell_type": "code",
   "execution_count": 27,
   "metadata": {},
   "outputs": [
    {
     "data": {
      "text/html": [
       "<div>\n",
       "<style scoped>\n",
       "    .dataframe tbody tr th:only-of-type {\n",
       "        vertical-align: middle;\n",
       "    }\n",
       "\n",
       "    .dataframe tbody tr th {\n",
       "        vertical-align: top;\n",
       "    }\n",
       "\n",
       "    .dataframe thead th {\n",
       "        text-align: right;\n",
       "    }\n",
       "</style>\n",
       "<table border=\"1\" class=\"dataframe\">\n",
       "  <thead>\n",
       "    <tr style=\"text-align: right;\">\n",
       "      <th></th>\n",
       "      <th>index</th>\n",
       "      <th>article_id</th>\n",
       "      <th>title</th>\n",
       "      <th>url</th>\n",
       "      <th>feed_label</th>\n",
       "      <th>content</th>\n",
       "      <th>published</th>\n",
       "      <th>summary</th>\n",
       "      <th>article_text</th>\n",
       "      <th>article_keywords</th>\n",
       "      <th>article_text_len</th>\n",
       "      <th>top_lang</th>\n",
       "      <th>title_and_text</th>\n",
       "      <th>top_two_countries</th>\n",
       "      <th>all_detected_countries</th>\n",
       "    </tr>\n",
       "  </thead>\n",
       "  <tbody>\n",
       "    <tr>\n",
       "      <th>0</th>\n",
       "      <td>10900</td>\n",
       "      <td>eebb9702</td>\n",
       "      <td>India, World Bank sign financing agreement for...</td>\n",
       "      <td>http://www.abplive.in/business/india-world-ban...</td>\n",
       "      <td>NEWS WB- All Streams</td>\n",
       "      <td>NaN</td>\n",
       "      <td>2017-12-21 09:22:12</td>\n",
       "      <td>&lt;table border=\"0\" cellspacing=\"3\" cellpadding=...</td>\n",
       "      <td>New Delhi [India], Dec 20 (ANI): A financing a...</td>\n",
       "      <td>[institutes, india, skill, financing, training...</td>\n",
       "      <td>1031</td>\n",
       "      <td>en</td>\n",
       "      <td>India, World Bank sign financing agreement for...</td>\n",
       "      <td>india</td>\n",
       "      <td>india</td>\n",
       "    </tr>\n",
       "    <tr>\n",
       "      <th>1</th>\n",
       "      <td>4268</td>\n",
       "      <td>6832ce57</td>\n",
       "      <td>Rs 40000-crore development projects in limbo i...</td>\n",
       "      <td>http://www.moneycontrol.com/news/business/econ...</td>\n",
       "      <td>NEWS AIIB - All Streams</td>\n",
       "      <td>NaN</td>\n",
       "      <td>2017-12-10 09:40:00</td>\n",
       "      <td>&lt;table border=\"0\" cellspacing=\"3\" cellpadding=...</td>\n",
       "      <td>Development projects worth more than Rs 40,000...</td>\n",
       "      <td>[development, crore, andhra, eaps, state, proj...</td>\n",
       "      <td>4390</td>\n",
       "      <td>en</td>\n",
       "      <td>Rs 40000-crore development projects in limbo i...</td>\n",
       "      <td>india</td>\n",
       "      <td>india</td>\n",
       "    </tr>\n",
       "    <tr>\n",
       "      <th>2</th>\n",
       "      <td>1663</td>\n",
       "      <td>30f8f65e</td>\n",
       "      <td>https://www.the-american-interest.com/2018/01/...</td>\n",
       "      <td>https://www.the-american-interest.com/2018/01/...</td>\n",
       "      <td>NEWS AFDB- All Streams</td>\n",
       "      <td>NaN</td>\n",
       "      <td>2018-01-03 12:21:54</td>\n",
       "      <td>&lt;table border=\"0\" cellspacing=\"3\" cellpadding=...</td>\n",
       "      <td>Ten Lessons\\n\\nDevelopment with Chinese Charac...</td>\n",
       "      <td>[transitions, university, chinese, united, dev...</td>\n",
       "      <td>575</td>\n",
       "      <td>en</td>\n",
       "      <td>https://www.the-american-interest.com/2018/01/...</td>\n",
       "      <td>china</td>\n",
       "      <td>china</td>\n",
       "    </tr>\n",
       "    <tr>\n",
       "      <th>3</th>\n",
       "      <td>3789</td>\n",
       "      <td>5ec16472</td>\n",
       "      <td>$300 Million to Expand and Upgrade Infrastruct...</td>\n",
       "      <td>https://jis.gov.jm/300-million-to-expand-and-u...</td>\n",
       "      <td>NEWS IDB - All Streams</td>\n",
       "      <td>NaN</td>\n",
       "      <td>2018-04-27 16:28:43</td>\n",
       "      <td>&lt;table border=\"0\" cellspacing=\"3\" cellpadding=...</td>\n",
       "      <td>Minister of Industry, Commerce, Agriculture an...</td>\n",
       "      <td>[research, development, agriculture, fisheries...</td>\n",
       "      <td>2621</td>\n",
       "      <td>en</td>\n",
       "      <td>$300 Million to Expand and Upgrade Infrastruct...</td>\n",
       "      <td></td>\n",
       "      <td></td>\n",
       "    </tr>\n",
       "    <tr>\n",
       "      <th>4</th>\n",
       "      <td>6657</td>\n",
       "      <td>989c9942</td>\n",
       "      <td>ADB Provides $346 Million to Upgrade State Hig...</td>\n",
       "      <td>http://www.business-standard.com/article/news-...</td>\n",
       "      <td>NEWS ADB - All Streams</td>\n",
       "      <td>NaN</td>\n",
       "      <td>2017-12-10 01:00:00</td>\n",
       "      <td>&lt;table border=\"0\" cellspacing=\"3\" cellpadding=...</td>\n",
       "      <td>The Asian Development Bank's (ADB) Board of Di...</td>\n",
       "      <td>[highways, improvement, india, state, upgrade,...</td>\n",
       "      <td>2532</td>\n",
       "      <td>en</td>\n",
       "      <td>ADB Provides $346 Million to Upgrade State Hig...</td>\n",
       "      <td>india</td>\n",
       "      <td>india</td>\n",
       "    </tr>\n",
       "  </tbody>\n",
       "</table>\n",
       "</div>"
      ],
      "text/plain": [
       "   index article_id                                              title  \\\n",
       "0  10900   eebb9702  India, World Bank sign financing agreement for...   \n",
       "1   4268   6832ce57  Rs 40000-crore development projects in limbo i...   \n",
       "2   1663   30f8f65e  https://www.the-american-interest.com/2018/01/...   \n",
       "3   3789   5ec16472  $300 Million to Expand and Upgrade Infrastruct...   \n",
       "4   6657   989c9942  ADB Provides $346 Million to Upgrade State Hig...   \n",
       "\n",
       "                                                 url               feed_label  \\\n",
       "0  http://www.abplive.in/business/india-world-ban...     NEWS WB- All Streams   \n",
       "1  http://www.moneycontrol.com/news/business/econ...  NEWS AIIB - All Streams   \n",
       "2  https://www.the-american-interest.com/2018/01/...   NEWS AFDB- All Streams   \n",
       "3  https://jis.gov.jm/300-million-to-expand-and-u...   NEWS IDB - All Streams   \n",
       "4  http://www.business-standard.com/article/news-...   NEWS ADB - All Streams   \n",
       "\n",
       "  content           published  \\\n",
       "0     NaN 2017-12-21 09:22:12   \n",
       "1     NaN 2017-12-10 09:40:00   \n",
       "2     NaN 2018-01-03 12:21:54   \n",
       "3     NaN 2018-04-27 16:28:43   \n",
       "4     NaN 2017-12-10 01:00:00   \n",
       "\n",
       "                                             summary  \\\n",
       "0  <table border=\"0\" cellspacing=\"3\" cellpadding=...   \n",
       "1  <table border=\"0\" cellspacing=\"3\" cellpadding=...   \n",
       "2  <table border=\"0\" cellspacing=\"3\" cellpadding=...   \n",
       "3  <table border=\"0\" cellspacing=\"3\" cellpadding=...   \n",
       "4  <table border=\"0\" cellspacing=\"3\" cellpadding=...   \n",
       "\n",
       "                                        article_text  \\\n",
       "0  New Delhi [India], Dec 20 (ANI): A financing a...   \n",
       "1  Development projects worth more than Rs 40,000...   \n",
       "2  Ten Lessons\\n\\nDevelopment with Chinese Charac...   \n",
       "3  Minister of Industry, Commerce, Agriculture an...   \n",
       "4  The Asian Development Bank's (ADB) Board of Di...   \n",
       "\n",
       "                                    article_keywords  article_text_len  \\\n",
       "0  [institutes, india, skill, financing, training...              1031   \n",
       "1  [development, crore, andhra, eaps, state, proj...              4390   \n",
       "2  [transitions, university, chinese, united, dev...               575   \n",
       "3  [research, development, agriculture, fisheries...              2621   \n",
       "4  [highways, improvement, india, state, upgrade,...              2532   \n",
       "\n",
       "  top_lang                                     title_and_text  \\\n",
       "0       en  India, World Bank sign financing agreement for...   \n",
       "1       en  Rs 40000-crore development projects in limbo i...   \n",
       "2       en  https://www.the-american-interest.com/2018/01/...   \n",
       "3       en  $300 Million to Expand and Upgrade Infrastruct...   \n",
       "4       en  ADB Provides $346 Million to Upgrade State Hig...   \n",
       "\n",
       "  top_two_countries all_detected_countries  \n",
       "0             india                  india  \n",
       "1             india                  india  \n",
       "2             china                  china  \n",
       "3                                           \n",
       "4             india                  india  "
      ]
     },
     "execution_count": 27,
     "metadata": {},
     "output_type": "execute_result"
    }
   ],
   "source": [
    "newsData.head()"
   ]
  },
  {
   "cell_type": "markdown",
   "metadata": {},
   "source": [
    "## parsing out dates in the article text"
   ]
  },
  {
   "cell_type": "code",
   "execution_count": 28,
   "metadata": {},
   "outputs": [],
   "source": [
    "import datefinder\n",
    "import datetime"
   ]
  },
  {
   "cell_type": "code",
   "execution_count": 57,
   "metadata": {},
   "outputs": [],
   "source": [
    "def extract_dates(text:str, base_date:datetime, min_date=datetime.date(2000,1,1),num_dates=5):\n",
    "    \"\"\"\n",
    "    Given a text, parse all dates found in the content\n",
    "    \n",
    "    text: article content\n",
    "    min_date: minimum date for date to be considered valid\n",
    "    \"\"\"\n",
    "    matches = datefinder.find_dates(text,base_date=base_date)\n",
    "    valid_found_dates = set()\n",
    "    for match_date in matches:\n",
    "        match_date = match_date.date()\n",
    "        if match_date > min_date:\n",
    "            valid_found_dates.add(match_date)\n",
    "    valid_found_dates = list(valid_found_dates)[:num_dates]\n",
    "    valid_found_dates = [d.strftime('%Y-%m-%d') for d in valid_found_dates]\n",
    "    \n",
    "    return list(valid_found_dates)\n"
   ]
  },
  {
   "cell_type": "code",
   "execution_count": 58,
   "metadata": {},
   "outputs": [
    {
     "data": {
      "text/plain": [
       "0                 [2022-11-30, 2017-12-20, 2017-12-26]\n",
       "1    [2016-09-10, 2017-07-31, 2017-05-10, 2016-10-2...\n",
       "2                                                   []\n",
       "3                                         [2018-04-25]\n",
       "4                             [2017-03-10, 2023-12-10]\n",
       "dtype: object"
      ]
     },
     "execution_count": 58,
     "metadata": {},
     "output_type": "execute_result"
    }
   ],
   "source": [
    "newsData.head().apply(lambda x : extract_dates (x['article_text'], x['published']), axis=1)"
   ]
  },
  {
   "cell_type": "code",
   "execution_count": 59,
   "metadata": {},
   "outputs": [],
   "source": [
    "newsData['dates']=newsData.apply(lambda x : extract_dates (x['article_text'], x['published']), axis=1)"
   ]
  },
  {
   "cell_type": "code",
   "execution_count": 60,
   "metadata": {},
   "outputs": [],
   "source": [
    "#newsData[['article_id','dates']].to_csv('article_date.csv')"
   ]
  },
  {
   "cell_type": "markdown",
   "metadata": {},
   "source": [
    "## parsing out bank information"
   ]
  },
  {
   "cell_type": "code",
   "execution_count": 61,
   "metadata": {},
   "outputs": [],
   "source": [
    "bankLabel = pd.read_csv(banklabel_path)"
   ]
  },
  {
   "cell_type": "code",
   "execution_count": 62,
   "metadata": {},
   "outputs": [
    {
     "data": {
      "text/html": [
       "<div>\n",
       "<style scoped>\n",
       "    .dataframe tbody tr th:only-of-type {\n",
       "        vertical-align: middle;\n",
       "    }\n",
       "\n",
       "    .dataframe tbody tr th {\n",
       "        vertical-align: top;\n",
       "    }\n",
       "\n",
       "    .dataframe thead th {\n",
       "        text-align: right;\n",
       "    }\n",
       "</style>\n",
       "<table border=\"1\" class=\"dataframe\">\n",
       "  <thead>\n",
       "    <tr style=\"text-align: right;\">\n",
       "      <th></th>\n",
       "      <th>article_id</th>\n",
       "      <th>published</th>\n",
       "      <th>title</th>\n",
       "      <th>url</th>\n",
       "      <th>feed_label</th>\n",
       "      <th>Bank1</th>\n",
       "      <th>Bank2</th>\n",
       "    </tr>\n",
       "  </thead>\n",
       "  <tbody>\n",
       "    <tr>\n",
       "      <th>0</th>\n",
       "      <td>10f9ed2</td>\n",
       "      <td>2018-01-11</td>\n",
       "      <td>ADB Provides Support for Three Infrastructure ...</td>\n",
       "      <td>http://moderndiplomacy.eu/2018/01/11/adb-provi...</td>\n",
       "      <td>NEWS ADB - All Streams</td>\n",
       "      <td>adb</td>\n",
       "      <td>NaN</td>\n",
       "    </tr>\n",
       "    <tr>\n",
       "      <th>1</th>\n",
       "      <td>c0eece9b</td>\n",
       "      <td>2018-05-13</td>\n",
       "      <td>ADB Helps Inaugurate New Power Distribution Ne...</td>\n",
       "      <td>http://feedproxy.google.com/~r/adb_news/~3/2My...</td>\n",
       "      <td>NEWS ADB - All Streams</td>\n",
       "      <td>adb</td>\n",
       "      <td>NaN</td>\n",
       "    </tr>\n",
       "    <tr>\n",
       "      <th>2</th>\n",
       "      <td>d1d79dd8</td>\n",
       "      <td>2018-02-20</td>\n",
       "      <td>ADB Provides $360 Million for Rolling Stock to...</td>\n",
       "      <td>http://feedproxy.google.com/~r/adb_news/~3/v9s...</td>\n",
       "      <td>NEWS ADB - All Streams</td>\n",
       "      <td>adb</td>\n",
       "      <td>NaN</td>\n",
       "    </tr>\n",
       "    <tr>\n",
       "      <th>3</th>\n",
       "      <td>f0d65e5</td>\n",
       "      <td>2018-02-25</td>\n",
       "      <td>ADB provides financing to Thailand's B.Grimm P...</td>\n",
       "      <td>https://www.dealstreetasia.com/stories/adb-b-g...</td>\n",
       "      <td>NEWS ADB - All Streams</td>\n",
       "      <td>adb</td>\n",
       "      <td>NaN</td>\n",
       "    </tr>\n",
       "    <tr>\n",
       "      <th>4</th>\n",
       "      <td>4a557358</td>\n",
       "      <td>2018-02-26</td>\n",
       "      <td>ADB's $235m loan to support B.Grimm Power expa...</td>\n",
       "      <td>https://www.power-technology.com/news/adbs-235...</td>\n",
       "      <td>NEWS ADB - All Streams</td>\n",
       "      <td>adb</td>\n",
       "      <td>NaN</td>\n",
       "    </tr>\n",
       "  </tbody>\n",
       "</table>\n",
       "</div>"
      ],
      "text/plain": [
       "  article_id   published                                              title  \\\n",
       "0    10f9ed2  2018-01-11  ADB Provides Support for Three Infrastructure ...   \n",
       "1   c0eece9b  2018-05-13  ADB Helps Inaugurate New Power Distribution Ne...   \n",
       "2   d1d79dd8  2018-02-20  ADB Provides $360 Million for Rolling Stock to...   \n",
       "3    f0d65e5  2018-02-25  ADB provides financing to Thailand's B.Grimm P...   \n",
       "4   4a557358  2018-02-26  ADB's $235m loan to support B.Grimm Power expa...   \n",
       "\n",
       "                                                 url              feed_label  \\\n",
       "0  http://moderndiplomacy.eu/2018/01/11/adb-provi...  NEWS ADB - All Streams   \n",
       "1  http://feedproxy.google.com/~r/adb_news/~3/2My...  NEWS ADB - All Streams   \n",
       "2  http://feedproxy.google.com/~r/adb_news/~3/v9s...  NEWS ADB - All Streams   \n",
       "3  https://www.dealstreetasia.com/stories/adb-b-g...  NEWS ADB - All Streams   \n",
       "4  https://www.power-technology.com/news/adbs-235...  NEWS ADB - All Streams   \n",
       "\n",
       "  Bank1 Bank2  \n",
       "0   adb   NaN  \n",
       "1   adb   NaN  \n",
       "2   adb   NaN  \n",
       "3   adb   NaN  \n",
       "4   adb   NaN  "
      ]
     },
     "execution_count": 62,
     "metadata": {},
     "output_type": "execute_result"
    }
   ],
   "source": [
    "bankLabel.head()"
   ]
  },
  {
   "cell_type": "code",
   "execution_count": 63,
   "metadata": {},
   "outputs": [],
   "source": [
    "bankNewsData = pd.merge(bankLabel,newsData[['article_id','article_text','article_keywords']], on = 'article_id')"
   ]
  },
  {
   "cell_type": "code",
   "execution_count": 64,
   "metadata": {},
   "outputs": [
    {
     "data": {
      "text/plain": [
       "array(['adb', 'afdb', 'aiib', 'ebrd', 'eib', 'idb', 'wb'], dtype=object)"
      ]
     },
     "execution_count": 64,
     "metadata": {},
     "output_type": "execute_result"
    }
   ],
   "source": [
    "bankNames = bankNewsData['Bank1'].unique()\n",
    "bankNames"
   ]
  },
  {
   "cell_type": "code",
   "execution_count": 65,
   "metadata": {},
   "outputs": [],
   "source": [
    "def bank_tagging(data, bank_names):\n",
    "    \"\"\"\n",
    "    Search bank names through 'feed_label'. \n",
    "    There are 13 banks that are within IAP's interest which \n",
    "    is stored in 'bankNames' list.\n",
    "    Bank name is then appended to the unique 'article_id'.\n",
    "    \"\"\"\n",
    "    results =[]\n",
    "    for i in data.index:\n",
    "        banks =[]\n",
    "        for bank in data.loc[i, 'feed_label'].replace('-', '').lower().split():\n",
    "            if bank in bank_names:\n",
    "                banks.append(bank)\n",
    "            else: pass\n",
    "        results.append([data.loc[i, 'article_id'], \",\".join(banks)])\n",
    "    results_df = pd.DataFrame(results,columns=['article_id', 'bank'])\n",
    "    return results_df"
   ]
  },
  {
   "cell_type": "code",
   "execution_count": 66,
   "metadata": {},
   "outputs": [],
   "source": [
    "results_df1 = bank_tagging(newsData, bankNames)"
   ]
  },
  {
   "cell_type": "code",
   "execution_count": 70,
   "metadata": {},
   "outputs": [],
   "source": [
    "newsData = newsData.merge(results_df1, how ='inner', on = 'article_id')"
   ]
  },
  {
   "cell_type": "code",
   "execution_count": 71,
   "metadata": {},
   "outputs": [
    {
     "data": {
      "text/html": [
       "<div>\n",
       "<style scoped>\n",
       "    .dataframe tbody tr th:only-of-type {\n",
       "        vertical-align: middle;\n",
       "    }\n",
       "\n",
       "    .dataframe tbody tr th {\n",
       "        vertical-align: top;\n",
       "    }\n",
       "\n",
       "    .dataframe thead th {\n",
       "        text-align: right;\n",
       "    }\n",
       "</style>\n",
       "<table border=\"1\" class=\"dataframe\">\n",
       "  <thead>\n",
       "    <tr style=\"text-align: right;\">\n",
       "      <th></th>\n",
       "      <th>index</th>\n",
       "      <th>article_id</th>\n",
       "      <th>title</th>\n",
       "      <th>url</th>\n",
       "      <th>feed_label</th>\n",
       "      <th>content</th>\n",
       "      <th>published</th>\n",
       "      <th>summary</th>\n",
       "      <th>article_text</th>\n",
       "      <th>article_keywords</th>\n",
       "      <th>article_text_len</th>\n",
       "      <th>top_lang</th>\n",
       "      <th>title_and_text</th>\n",
       "      <th>top_two_countries</th>\n",
       "      <th>all_detected_countries</th>\n",
       "      <th>dates</th>\n",
       "      <th>wb</th>\n",
       "      <th>bank_x</th>\n",
       "      <th>bank_y</th>\n",
       "      <th>bank</th>\n",
       "    </tr>\n",
       "  </thead>\n",
       "  <tbody>\n",
       "    <tr>\n",
       "      <th>0</th>\n",
       "      <td>10900</td>\n",
       "      <td>eebb9702</td>\n",
       "      <td>India, World Bank sign financing agreement for...</td>\n",
       "      <td>http://www.abplive.in/business/india-world-ban...</td>\n",
       "      <td>NEWS WB- All Streams</td>\n",
       "      <td>NaN</td>\n",
       "      <td>2017-12-21 09:22:12</td>\n",
       "      <td>&lt;table border=\"0\" cellspacing=\"3\" cellpadding=...</td>\n",
       "      <td>New Delhi [India], Dec 20 (ANI): A financing a...</td>\n",
       "      <td>[institutes, india, skill, financing, training...</td>\n",
       "      <td>1031</td>\n",
       "      <td>en</td>\n",
       "      <td>India, World Bank sign financing agreement for...</td>\n",
       "      <td>india</td>\n",
       "      <td>india</td>\n",
       "      <td>[2022-11-30, 2017-12-20, 2017-12-26]</td>\n",
       "      <td>wb</td>\n",
       "      <td>wb</td>\n",
       "      <td>wb</td>\n",
       "      <td>wb</td>\n",
       "    </tr>\n",
       "    <tr>\n",
       "      <th>1</th>\n",
       "      <td>4268</td>\n",
       "      <td>6832ce57</td>\n",
       "      <td>Rs 40000-crore development projects in limbo i...</td>\n",
       "      <td>http://www.moneycontrol.com/news/business/econ...</td>\n",
       "      <td>NEWS AIIB - All Streams</td>\n",
       "      <td>NaN</td>\n",
       "      <td>2017-12-10 09:40:00</td>\n",
       "      <td>&lt;table border=\"0\" cellspacing=\"3\" cellpadding=...</td>\n",
       "      <td>Development projects worth more than Rs 40,000...</td>\n",
       "      <td>[development, crore, andhra, eaps, state, proj...</td>\n",
       "      <td>4390</td>\n",
       "      <td>en</td>\n",
       "      <td>Rs 40000-crore development projects in limbo i...</td>\n",
       "      <td>india</td>\n",
       "      <td>india</td>\n",
       "      <td>[2016-09-10, 2017-07-31, 2017-05-10, 2016-10-2...</td>\n",
       "      <td>aiib</td>\n",
       "      <td>aiib</td>\n",
       "      <td>aiib</td>\n",
       "      <td>aiib</td>\n",
       "    </tr>\n",
       "    <tr>\n",
       "      <th>2</th>\n",
       "      <td>1663</td>\n",
       "      <td>30f8f65e</td>\n",
       "      <td>https://www.the-american-interest.com/2018/01/...</td>\n",
       "      <td>https://www.the-american-interest.com/2018/01/...</td>\n",
       "      <td>NEWS AFDB- All Streams</td>\n",
       "      <td>NaN</td>\n",
       "      <td>2018-01-03 12:21:54</td>\n",
       "      <td>&lt;table border=\"0\" cellspacing=\"3\" cellpadding=...</td>\n",
       "      <td>Ten Lessons\\n\\nDevelopment with Chinese Charac...</td>\n",
       "      <td>[transitions, university, chinese, united, dev...</td>\n",
       "      <td>575</td>\n",
       "      <td>en</td>\n",
       "      <td>https://www.the-american-interest.com/2018/01/...</td>\n",
       "      <td>china</td>\n",
       "      <td>china</td>\n",
       "      <td>[]</td>\n",
       "      <td>afdb</td>\n",
       "      <td>afdb</td>\n",
       "      <td>afdb</td>\n",
       "      <td>afdb</td>\n",
       "    </tr>\n",
       "    <tr>\n",
       "      <th>3</th>\n",
       "      <td>3789</td>\n",
       "      <td>5ec16472</td>\n",
       "      <td>$300 Million to Expand and Upgrade Infrastruct...</td>\n",
       "      <td>https://jis.gov.jm/300-million-to-expand-and-u...</td>\n",
       "      <td>NEWS IDB - All Streams</td>\n",
       "      <td>NaN</td>\n",
       "      <td>2018-04-27 16:28:43</td>\n",
       "      <td>&lt;table border=\"0\" cellspacing=\"3\" cellpadding=...</td>\n",
       "      <td>Minister of Industry, Commerce, Agriculture an...</td>\n",
       "      <td>[research, development, agriculture, fisheries...</td>\n",
       "      <td>2621</td>\n",
       "      <td>en</td>\n",
       "      <td>$300 Million to Expand and Upgrade Infrastruct...</td>\n",
       "      <td></td>\n",
       "      <td></td>\n",
       "      <td>[2018-04-25]</td>\n",
       "      <td>idb</td>\n",
       "      <td>idb</td>\n",
       "      <td>idb</td>\n",
       "      <td>idb</td>\n",
       "    </tr>\n",
       "    <tr>\n",
       "      <th>4</th>\n",
       "      <td>6657</td>\n",
       "      <td>989c9942</td>\n",
       "      <td>ADB Provides $346 Million to Upgrade State Hig...</td>\n",
       "      <td>http://www.business-standard.com/article/news-...</td>\n",
       "      <td>NEWS ADB - All Streams</td>\n",
       "      <td>NaN</td>\n",
       "      <td>2017-12-10 01:00:00</td>\n",
       "      <td>&lt;table border=\"0\" cellspacing=\"3\" cellpadding=...</td>\n",
       "      <td>The Asian Development Bank's (ADB) Board of Di...</td>\n",
       "      <td>[highways, improvement, india, state, upgrade,...</td>\n",
       "      <td>2532</td>\n",
       "      <td>en</td>\n",
       "      <td>ADB Provides $346 Million to Upgrade State Hig...</td>\n",
       "      <td>india</td>\n",
       "      <td>india</td>\n",
       "      <td>[2017-03-10, 2023-12-10]</td>\n",
       "      <td>adb</td>\n",
       "      <td>adb</td>\n",
       "      <td>adb</td>\n",
       "      <td>adb</td>\n",
       "    </tr>\n",
       "  </tbody>\n",
       "</table>\n",
       "</div>"
      ],
      "text/plain": [
       "   index article_id                                              title  \\\n",
       "0  10900   eebb9702  India, World Bank sign financing agreement for...   \n",
       "1   4268   6832ce57  Rs 40000-crore development projects in limbo i...   \n",
       "2   1663   30f8f65e  https://www.the-american-interest.com/2018/01/...   \n",
       "3   3789   5ec16472  $300 Million to Expand and Upgrade Infrastruct...   \n",
       "4   6657   989c9942  ADB Provides $346 Million to Upgrade State Hig...   \n",
       "\n",
       "                                                 url               feed_label  \\\n",
       "0  http://www.abplive.in/business/india-world-ban...     NEWS WB- All Streams   \n",
       "1  http://www.moneycontrol.com/news/business/econ...  NEWS AIIB - All Streams   \n",
       "2  https://www.the-american-interest.com/2018/01/...   NEWS AFDB- All Streams   \n",
       "3  https://jis.gov.jm/300-million-to-expand-and-u...   NEWS IDB - All Streams   \n",
       "4  http://www.business-standard.com/article/news-...   NEWS ADB - All Streams   \n",
       "\n",
       "  content           published  \\\n",
       "0     NaN 2017-12-21 09:22:12   \n",
       "1     NaN 2017-12-10 09:40:00   \n",
       "2     NaN 2018-01-03 12:21:54   \n",
       "3     NaN 2018-04-27 16:28:43   \n",
       "4     NaN 2017-12-10 01:00:00   \n",
       "\n",
       "                                             summary  \\\n",
       "0  <table border=\"0\" cellspacing=\"3\" cellpadding=...   \n",
       "1  <table border=\"0\" cellspacing=\"3\" cellpadding=...   \n",
       "2  <table border=\"0\" cellspacing=\"3\" cellpadding=...   \n",
       "3  <table border=\"0\" cellspacing=\"3\" cellpadding=...   \n",
       "4  <table border=\"0\" cellspacing=\"3\" cellpadding=...   \n",
       "\n",
       "                                        article_text  \\\n",
       "0  New Delhi [India], Dec 20 (ANI): A financing a...   \n",
       "1  Development projects worth more than Rs 40,000...   \n",
       "2  Ten Lessons\\n\\nDevelopment with Chinese Charac...   \n",
       "3  Minister of Industry, Commerce, Agriculture an...   \n",
       "4  The Asian Development Bank's (ADB) Board of Di...   \n",
       "\n",
       "                                    article_keywords  article_text_len  \\\n",
       "0  [institutes, india, skill, financing, training...              1031   \n",
       "1  [development, crore, andhra, eaps, state, proj...              4390   \n",
       "2  [transitions, university, chinese, united, dev...               575   \n",
       "3  [research, development, agriculture, fisheries...              2621   \n",
       "4  [highways, improvement, india, state, upgrade,...              2532   \n",
       "\n",
       "  top_lang                                     title_and_text  \\\n",
       "0       en  India, World Bank sign financing agreement for...   \n",
       "1       en  Rs 40000-crore development projects in limbo i...   \n",
       "2       en  https://www.the-american-interest.com/2018/01/...   \n",
       "3       en  $300 Million to Expand and Upgrade Infrastruct...   \n",
       "4       en  ADB Provides $346 Million to Upgrade State Hig...   \n",
       "\n",
       "  top_two_countries all_detected_countries  \\\n",
       "0             india                  india   \n",
       "1             india                  india   \n",
       "2             china                  china   \n",
       "3                                            \n",
       "4             india                  india   \n",
       "\n",
       "                                               dates    wb bank_x bank_y  bank  \n",
       "0               [2022-11-30, 2017-12-20, 2017-12-26]    wb     wb     wb    wb  \n",
       "1  [2016-09-10, 2017-07-31, 2017-05-10, 2016-10-2...  aiib   aiib   aiib  aiib  \n",
       "2                                                 []  afdb   afdb   afdb  afdb  \n",
       "3                                       [2018-04-25]   idb    idb    idb   idb  \n",
       "4                           [2017-03-10, 2023-12-10]   adb    adb    adb   adb  "
      ]
     },
     "execution_count": 71,
     "metadata": {},
     "output_type": "execute_result"
    }
   ],
   "source": [
    "newsData.head()"
   ]
  },
  {
   "cell_type": "code",
   "execution_count": 72,
   "metadata": {},
   "outputs": [],
   "source": [
    "tagging_output = newsData[['article_id', 'top_two_countries', 'bank', 'dates']].to_dict(orient = 'index')"
   ]
  },
  {
   "cell_type": "code",
   "execution_count": null,
   "metadata": {},
   "outputs": [],
   "source": []
  }
 ],
 "metadata": {
  "kernelspec": {
   "display_name": "Python 3",
   "language": "python",
   "name": "python3"
  },
  "language_info": {
   "codemirror_mode": {
    "name": "ipython",
    "version": 3
   },
   "file_extension": ".py",
   "mimetype": "text/x-python",
   "name": "python",
   "nbconvert_exporter": "python",
   "pygments_lexer": "ipython3",
   "version": "3.6.4"
  }
 },
 "nbformat": 4,
 "nbformat_minor": 2
}
